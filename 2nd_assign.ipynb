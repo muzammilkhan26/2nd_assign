{
 "cells": [
  {
   "cell_type": "markdown",
   "id": "da8b8303",
   "metadata": {},
   "source": [
    "## You are creating a program to manage a grocery shopping list. Users should be able to add items, remove items, and display the current list."
   ]
  },
  {
   "cell_type": "code",
   "execution_count": 1,
   "id": "77be33ed",
   "metadata": {},
   "outputs": [
    {
     "name": "stdout",
     "output_type": "stream",
     "text": [
      "Enter item Name to add: Dhaniya\n",
      "Enter Item to Delete: Alo\n",
      "If You Want to Show Items List then Type \"Show Items\": Show Items\n",
      "Grocery shopping list is:\n",
      "- Gajar\n",
      "- Moli\n",
      "- Dhaniya\n"
     ]
    }
   ],
   "source": [
    "items = ['Gajar', 'Moli', 'Alo']\n",
    "\n",
    "additm = input(\"Enter item Name to add: \")\n",
    "dltitm = input(\"Enter Item to Delete: \")\n",
    "showitm = input('If You Want to Show Items List then Type \"Show Items\": ')\n",
    "\n",
    "if additm != \"\":\n",
    "    items.append(additm)\n",
    "\n",
    "if dltitm != \"\":\n",
    "    items.remove(dltitm)\n",
    "\n",
    "if showitm.lower() == \"show items\":\n",
    "    print(\"Grocery shopping list is:\")\n",
    "    for item in items:\n",
    "        print(f\"- {item}\")"
   ]
  },
  {
   "cell_type": "markdown",
   "id": "4f92d12f",
   "metadata": {},
   "source": [
    "## You are managing student grades using a dictionary. You need to calculate the average grade.take atleast 5 Students grades & then calculate the average."
   ]
  },
  {
   "cell_type": "code",
   "execution_count": 1,
   "id": "b8886f7e",
   "metadata": {},
   "outputs": [
    {
     "name": "stdout",
     "output_type": "stream",
     "text": [
      "Enter the Grade of 1st Student: 85\n",
      "Enter the Grade of 2st Student: 68\n",
      "Enter the Grade of 3st Student: 78\n",
      "Enter the Grade of 4st Student: 95\n",
      "Enter the Grade of 5st Student: 99\n",
      "\n",
      "Individual Grades:\n",
      "Student 1: 85\n",
      "Student 2: 68\n",
      "Student 3: 78\n",
      "Student 4: 95\n",
      "Student 5: 99\n",
      "\n",
      "Average Grade: 85.0\n"
     ]
    }
   ],
   "source": [
    "stnd1 = int(input(\"Enter the Grade of 1st Student: \"))\n",
    "stnd2 = int(input(\"Enter the Grade of 2st Student: \"))\n",
    "stnd3 = int(input(\"Enter the Grade of 3st Student: \"))\n",
    "stnd4 = int(input(\"Enter the Grade of 4st Student: \"))\n",
    "stnd5 = int(input(\"Enter the Grade of 5st Student: \"))\n",
    "\n",
    "stdnt_grde = {\n",
    "    \"Student 1\": stnd1,\n",
    "    \"Student 2\": stnd2,\n",
    "    \"Student 3\": stnd3,\n",
    "    \"Student 4\": stnd4,\n",
    "    \"Student 5\": stnd5,\n",
    "}\n",
    "\n",
    "total_grades = 0\n",
    "for grade in stdnt_grde.values():\n",
    "    total_grades += grade\n",
    "\n",
    "num_students = len(stdnt_grde)\n",
    "average_grade = total_grades / num_students\n",
    "\n",
    "print(\"\\nIndividual Grades:\")\n",
    "for student, grade in stdnt_grde.items():\n",
    "    print(f\"{student}: {grade}\")\n",
    "\n",
    "print(\"\\nAverage Grade:\", average_grade)"
   ]
  },
  {
   "cell_type": "code",
   "execution_count": null,
   "id": "832439be",
   "metadata": {},
   "outputs": [],
   "source": []
  }
 ],
 "metadata": {
  "kernelspec": {
   "display_name": "Python 3 (ipykernel)",
   "language": "python",
   "name": "python3"
  },
  "language_info": {
   "codemirror_mode": {
    "name": "ipython",
    "version": 3
   },
   "file_extension": ".py",
   "mimetype": "text/x-python",
   "name": "python",
   "nbconvert_exporter": "python",
   "pygments_lexer": "ipython3",
   "version": "3.11.5"
  }
 },
 "nbformat": 4,
 "nbformat_minor": 5
}
