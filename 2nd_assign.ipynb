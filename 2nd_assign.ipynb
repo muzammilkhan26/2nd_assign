{
 "cells": [
  {
   "cell_type": "markdown",
   "id": "da8b8303",
   "metadata": {},
   "source": [
    "## You are creating a program to manage a grocery shopping list. Users should be able to add items, remove items, and display the current list."
   ]
  },
  {
   "cell_type": "code",
   "execution_count": 1,
   "id": "77be33ed",
   "metadata": {},
   "outputs": [
    {
     "name": "stdout",
     "output_type": "stream",
     "text": [
      "Enter item Name to add: Dhaniya\n",
      "Enter Item to Delete: Alo\n",
      "If You Want to Show Items List then Type \"Show Items\": Show Items\n",
      "Grocery shopping list is:\n",
      "- Gajar\n",
      "- Moli\n",
      "- Dhaniya\n"
     ]
    }
   ],
   "source": [
    "items = ['Gajar', 'Moli', 'Alo']\n",
    "\n",
    "additm = input(\"Enter item Name to add: \")\n",
    "dltitm = input(\"Enter Item to Delete: \")\n",
    "showitm = input('If You Want to Show Items List then Type \"Show Items\": ')\n",
    "\n",
    "if additm != \"\":\n",
    "    items.append(additm)\n",
    "\n",
    "if dltitm != \"\":\n",
    "    items.remove(dltitm)\n",
    "\n",
    "if showitm.lower() == \"show items\":\n",
    "    print(\"Grocery shopping list is:\")\n",
    "    for item in items:\n",
    "        print(f\"- {item}\")"
   ]
  },
  {
   "cell_type": "markdown",
   "id": "4f92d12f",
   "metadata": {},
   "source": [
    "## You are managing student grades using a dictionary. You need to calculate the average grade.take atleast 5 Students grades & then calculate the average."
   ]
  },
  {
   "cell_type": "code",
   "execution_count": 1,
   "id": "b8886f7e",
   "metadata": {},
   "outputs": [
    {
     "name": "stdout",
     "output_type": "stream",
     "text": [
      "Enter the Grade of 1st Student: 85\n",
      "Enter the Grade of 2st Student: 68\n",
      "Enter the Grade of 3st Student: 78\n",
      "Enter the Grade of 4st Student: 95\n",
      "Enter the Grade of 5st Student: 99\n",
      "\n",
      "Individual Grades:\n",
      "Student 1: 85\n",
      "Student 2: 68\n",
      "Student 3: 78\n",
      "Student 4: 95\n",
      "Student 5: 99\n",
      "\n",
      "Average Grade: 85.0\n"
     ]
    }
   ],
   "source": [
    "stnd1 = int(input(\"Enter the Grade of 1st Student: \"))\n",
    "stnd2 = int(input(\"Enter the Grade of 2st Student: \"))\n",
    "stnd3 = int(input(\"Enter the Grade of 3st Student: \"))\n",
    "stnd4 = int(input(\"Enter the Grade of 4st Student: \"))\n",
    "stnd5 = int(input(\"Enter the Grade of 5st Student: \"))\n",
    "\n",
    "stdnt_grde = {\n",
    "    \"Student 1\": stnd1,\n",
    "    \"Student 2\": stnd2,\n",
    "    \"Student 3\": stnd3,\n",
    "    \"Student 4\": stnd4,\n",
    "    \"Student 5\": stnd5,\n",
    "}\n",
    "\n",
    "total_grades = 0\n",
    "for grade in stdnt_grde.values():\n",
    "    total_grades += grade\n",
    "\n",
    "num_students = len(stdnt_grde)\n",
    "average_grade = total_grades / num_students\n",
    "\n",
    "print(\"\\nIndividual Grades:\")\n",
    "for student, grade in stdnt_grde.items():\n",
    "    print(f\"{student}: {grade}\")\n",
    "\n",
    "print(\"\\nAverage Grade:\", average_grade)"
   ]
  },
  {
   "cell_type": "markdown",
   "id": "aa171963",
   "metadata": {},
   "source": [
    "## You are given a list of words, and you need to count the frequency of each word.\n",
    "## word_list = [\"apple\", \"banana\", \"apple\", \"orange\", \"banana\", \"grape\", \"apple\"]"
   ]
  },
  {
   "cell_type": "code",
   "execution_count": 1,
   "id": "520fce33",
   "metadata": {},
   "outputs": [
    {
     "name": "stdout",
     "output_type": "stream",
     "text": [
      "apple: 3 times\n",
      "banana: 2 times\n",
      "orange: 1 times\n",
      "grape: 1 times\n"
     ]
    }
   ],
   "source": [
    "word_list = [\"apple\", \"banana\", \"apple\", \"orange\", \"banana\", \"grape\", \"apple\"]\n",
    "\n",
    "word_counts = {}\n",
    "for word in word_list:\n",
    "    if word in word_counts:\n",
    "        word_counts[word] += 1\n",
    "    else:\n",
    "        word_counts[word] = 1\n",
    "\n",
    "for word, count in word_counts.items():\n",
    "    print(f\"{word}: {count} times\")"
   ]
  },
  {
   "cell_type": "markdown",
   "id": "5c7327ee",
   "metadata": {},
   "source": [
    "## Scenario 3: Password Strength Checker"
   ]
  },
  {
   "cell_type": "code",
   "execution_count": 6,
   "id": "b70c483c",
   "metadata": {},
   "outputs": [
    {
     "name": "stdout",
     "output_type": "stream",
     "text": [
      "Enter Your Password: 1234657m\n",
      "Password is strong.\n"
     ]
    }
   ],
   "source": [
    "password = input(\"Enter Your Password: \")\n",
    "\n",
    "if len(password) < 8:\n",
    "    print(\"Password is too short. It should be at least 8 characters long.\")\n",
    "elif not any(char.isdigit() for char in password):\n",
    "    print(\"Password should contain at least one digit.\")\n",
    "elif not any(char.isalpha() for char in password):\n",
    "    print(\"Password should contain at least one letter.\")\n",
    "else:\n",
    "    print(\"Password is strong.\")"
   ]
  },
  {
   "cell_type": "markdown",
   "id": "895f737d",
   "metadata": {},
   "source": [
    "## You are developing a simple voting system for a contest. Users can vote for their Favorite option, and you need to count the votes."
   ]
  },
  {
   "cell_type": "code",
   "execution_count": 7,
   "id": "ccc69486",
   "metadata": {},
   "outputs": [
    {
     "name": "stdout",
     "output_type": "stream",
     "text": [
      "1. Vote for A\n",
      "2. Vote for B\n",
      "Enter the number of your favorite option (or 0 to exit): 1\n",
      "Vote for A counted!\n",
      "Enter the number of your favorite option (or 0 to exit): 2\n",
      "Vote for B counted!\n",
      "Enter the number of your favorite option (or 0 to exit): 3\n",
      "Invalid choice. Please enter a valid option.\n",
      "Enter the number of your favorite option (or 0 to exit): 1\n",
      "Vote for A counted!\n",
      "Enter the number of your favorite option (or 0 to exit): 2\n",
      "Vote for B counted!\n",
      "Enter the number of your favorite option (or 0 to exit): 5\n",
      "Invalid choice. Please enter a valid option.\n",
      "Enter the number of your favorite option (or 0 to exit): 2\n",
      "Vote for B counted!\n",
      "Enter the number of your favorite option (or 0 to exit): 2\n",
      "Vote for B counted!\n",
      "Enter the number of your favorite option (or 0 to exit): 1\n",
      "Vote for A counted!\n",
      "Enter the number of your favorite option (or 0 to exit): 1\n",
      "Vote for A counted!\n",
      "Enter the number of your favorite option (or 0 to exit): 0\n",
      "\n",
      "Final Vote Counts:\n",
      "Option A: 4 votes\n",
      "Option B: 4 votes\n"
     ]
    }
   ],
   "source": [
    "votes = {\"A\": 0, \"B\": 0}\n",
    "\n",
    "option_mapping = {\"1\": \"A\", \"2\": \"B\"}\n",
    "\n",
    "options_iter = iter(option_mapping)\n",
    "\n",
    "for option_num in options_iter:\n",
    "    print(f\"{option_num}. Vote for {option_mapping[option_num]}\")\n",
    "\n",
    "for choice in iter(lambda: input(\"Enter the number of your favorite option (or 0 to exit): \"), '0'):\n",
    "    if choice not in option_mapping:\n",
    "        print(\"Invalid choice. Please enter a valid option.\")\n",
    "    else:\n",
    "        voted_option = option_mapping[choice]\n",
    "        votes[voted_option] += 1\n",
    "        print(f\"Vote for {voted_option} counted!\")\n",
    "\n",
    "print(\"\\nFinal Vote Counts:\")\n",
    "for option, count in votes.items():\n",
    "    print(f\"Option {option}: {count} votes\")"
   ]
  },
  {
   "cell_type": "markdown",
   "id": "e2ae7041",
   "metadata": {},
   "source": [
    "## Scenario 04: Voting System (Annual Employee Recognition Awards)"
   ]
  },
  {
   "cell_type": "code",
   "execution_count": 9,
   "id": "4c4b1784",
   "metadata": {},
   "outputs": [
    {
     "name": "stdout",
     "output_type": "stream",
     "text": [
      "Enter the number of voters participating in the awards: 6\n",
      "\n",
      "Voter 1:\n",
      "1. Vote for Employee of the Year - Candidate A\n",
      "2. Vote for Employee of the Year - Candidate B\n",
      "3. Vote for Employee of the Year - Candidate C\n",
      "4. Vote for Team Player of the Year - Candidate A\n",
      "5. Vote for Team Player of the Year - Candidate B\n",
      "6. Vote for Team Player of the Year - Candidate C\n",
      "7. Vote for Innovation Award - Candidate A\n",
      "8. Vote for Innovation Award - Candidate B\n",
      "9. Vote for Innovation Award - Candidate C\n",
      "Enter the number of your favorite candidate: 8\n",
      "\n",
      "Vote for Innovation Award - Candidate B recorded!\n",
      "\n",
      "\n",
      "Voter 2:\n",
      "1. Vote for Employee of the Year - Candidate A\n",
      "2. Vote for Employee of the Year - Candidate B\n",
      "3. Vote for Employee of the Year - Candidate C\n",
      "4. Vote for Team Player of the Year - Candidate A\n",
      "5. Vote for Team Player of the Year - Candidate B\n",
      "6. Vote for Team Player of the Year - Candidate C\n",
      "7. Vote for Innovation Award - Candidate A\n",
      "8. Vote for Innovation Award - Candidate B\n",
      "9. Vote for Innovation Award - Candidate C\n",
      "Enter the number of your favorite candidate: 8\n",
      "\n",
      "Vote for Innovation Award - Candidate B recorded!\n",
      "\n",
      "\n",
      "Voter 3:\n",
      "1. Vote for Employee of the Year - Candidate A\n",
      "2. Vote for Employee of the Year - Candidate B\n",
      "3. Vote for Employee of the Year - Candidate C\n",
      "4. Vote for Team Player of the Year - Candidate A\n",
      "5. Vote for Team Player of the Year - Candidate B\n",
      "6. Vote for Team Player of the Year - Candidate C\n",
      "7. Vote for Innovation Award - Candidate A\n",
      "8. Vote for Innovation Award - Candidate B\n",
      "9. Vote for Innovation Award - Candidate C\n",
      "Enter the number of your favorite candidate: 6\n",
      "\n",
      "Vote for Team Player of the Year - Candidate C recorded!\n",
      "\n",
      "\n",
      "Voter 4:\n",
      "1. Vote for Employee of the Year - Candidate A\n",
      "2. Vote for Employee of the Year - Candidate B\n",
      "3. Vote for Employee of the Year - Candidate C\n",
      "4. Vote for Team Player of the Year - Candidate A\n",
      "5. Vote for Team Player of the Year - Candidate B\n",
      "6. Vote for Team Player of the Year - Candidate C\n",
      "7. Vote for Innovation Award - Candidate A\n",
      "8. Vote for Innovation Award - Candidate B\n",
      "9. Vote for Innovation Award - Candidate C\n",
      "Enter the number of your favorite candidate: 8\n",
      "\n",
      "Vote for Innovation Award - Candidate B recorded!\n",
      "\n",
      "\n",
      "Voter 5:\n",
      "1. Vote for Employee of the Year - Candidate A\n",
      "2. Vote for Employee of the Year - Candidate B\n",
      "3. Vote for Employee of the Year - Candidate C\n",
      "4. Vote for Team Player of the Year - Candidate A\n",
      "5. Vote for Team Player of the Year - Candidate B\n",
      "6. Vote for Team Player of the Year - Candidate C\n",
      "7. Vote for Innovation Award - Candidate A\n",
      "8. Vote for Innovation Award - Candidate B\n",
      "9. Vote for Innovation Award - Candidate C\n",
      "Enter the number of your favorite candidate: 9\n",
      "\n",
      "Vote for Innovation Award - Candidate C recorded!\n",
      "\n",
      "\n",
      "Voter 6:\n",
      "1. Vote for Employee of the Year - Candidate A\n",
      "2. Vote for Employee of the Year - Candidate B\n",
      "3. Vote for Employee of the Year - Candidate C\n",
      "4. Vote for Team Player of the Year - Candidate A\n",
      "5. Vote for Team Player of the Year - Candidate B\n",
      "6. Vote for Team Player of the Year - Candidate C\n",
      "7. Vote for Innovation Award - Candidate A\n",
      "8. Vote for Innovation Award - Candidate B\n",
      "9. Vote for Innovation Award - Candidate C\n",
      "Enter the number of your favorite candidate: 4\n",
      "\n",
      "Vote for Team Player of the Year - Candidate A recorded!\n",
      "\n",
      "\n",
      "Final Vote Counts:\n",
      "Employee of the Year - Candidate A: 0 votes\n",
      "Employee of the Year - Candidate B: 0 votes\n",
      "Employee of the Year - Candidate C: 0 votes\n",
      "Team Player of the Year - Candidate A: 1 votes\n",
      "Team Player of the Year - Candidate B: 0 votes\n",
      "Team Player of the Year - Candidate C: 1 votes\n",
      "Innovation Award - Candidate A: 0 votes\n",
      "Innovation Award - Candidate B: 3 votes\n",
      "Innovation Award - Candidate C: 1 votes\n",
      "\n",
      "Award Winners:\n",
      "Employee of the Year: Employee of the Year - Candidate A (with 0 votes)\n",
      "Team Player of the Year: Team Player of the Year - Candidate A (with 1 votes)\n",
      "Innovation Award: Innovation Award - Candidate B (with 3 votes)\n"
     ]
    }
   ],
   "source": [
    "votes = {\"Employee of the Year - Candidate A\": 0, \"Employee of the Year - Candidate B\": 0, \"Employee of the Year - Candidate C\": 0,\n",
    "         \"Team Player of the Year - Candidate A\": 0, \"Team Player of the Year - Candidate B\": 0, \"Team Player of the Year - Candidate C\": 0,\n",
    "         \"Innovation Award - Candidate A\": 0, \"Innovation Award - Candidate B\": 0, \"Innovation Award - Candidate C\": 0}\n",
    "\n",
    "option_mapping = {\n",
    "    \"1\": \"Employee of the Year - Candidate A\", \"2\": \"Employee of the Year - Candidate B\", \"3\": \"Employee of the Year - Candidate C\",\n",
    "    \"4\": \"Team Player of the Year - Candidate A\", \"5\": \"Team Player of the Year - Candidate B\", \"6\": \"Team Player of the Year - Candidate C\",\n",
    "    \"7\": \"Innovation Award - Candidate A\", \"8\": \"Innovation Award - Candidate B\", \"9\": \"Innovation Award - Candidate C\"\n",
    "}\n",
    "\n",
    "num_voters = int(input(\"Enter the number of voters participating in the awards: \"))\n",
    "\n",
    "for voter in range(1, num_voters + 1):\n",
    "    print(f\"\\nVoter {voter}:\")\n",
    "    for option_num in option_mapping:\n",
    "        print(f\"{option_num}. Vote for {option_mapping[option_num]}\")\n",
    "\n",
    "    for _ in range(3):  \n",
    "        choice_input = input(\"Enter the number of your favorite candidate: \")\n",
    "        if choice_input.isdigit():\n",
    "            choice = int(choice_input)\n",
    "            if 1 <= choice <= len(option_mapping):\n",
    "                break\n",
    "            else:\n",
    "                print(\"Invalid choice. Please enter a valid option.\")\n",
    "        else:\n",
    "            print(\"Invalid input. Please enter a valid number.\")\n",
    "    else:\n",
    "        print(\"Too many invalid attempts. Exiting.\")\n",
    "        exit()\n",
    "\n",
    "    voted_candidate = option_mapping[str(choice)]\n",
    "    votes[voted_candidate] += 1\n",
    "    print(f\"\\nVote for {voted_candidate} recorded!\\n\")\n",
    "\n",
    "print(\"\\nFinal Vote Counts:\")\n",
    "for candidate, count in votes.items():\n",
    "    print(f\"{candidate}: {count} votes\")\n",
    "\n",
    "print(\"\\nAward Winners:\")\n",
    "for category in [\"Employee of the Year\", \"Team Player of the Year\", \"Innovation Award\"]:\n",
    "    category_candidates = [f\"{category} - Candidate A\", f\"{category} - Candidate B\", f\"{category} - Candidate C\"]\n",
    "    winner = max(category_candidates, key=lambda x: votes[x])\n",
    "    print(f\"{category}: {winner} (with {votes[winner]} votes)\")\n"
   ]
  },
  {
   "cell_type": "code",
   "execution_count": null,
   "id": "f9aa94de",
   "metadata": {},
   "outputs": [],
   "source": []
  }
 ],
 "metadata": {
  "kernelspec": {
   "display_name": "Python 3 (ipykernel)",
   "language": "python",
   "name": "python3"
  },
  "language_info": {
   "codemirror_mode": {
    "name": "ipython",
    "version": 3
   },
   "file_extension": ".py",
   "mimetype": "text/x-python",
   "name": "python",
   "nbconvert_exporter": "python",
   "pygments_lexer": "ipython3",
   "version": "3.11.5"
  }
 },
 "nbformat": 4,
 "nbformat_minor": 5
}
